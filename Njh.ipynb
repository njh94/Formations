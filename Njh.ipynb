{
 "cells": [
  {
   "cell_type": "code",
   "execution_count": 1,
   "metadata": {},
   "outputs": [
    {
     "data": {
      "text/plain": [
       "14"
      ]
     },
     "execution_count": 1,
     "metadata": {},
     "output_type": "execute_result"
    }
   ],
   "source": [
    "7+7\n"
   ]
  },
  {
   "cell_type": "code",
   "execution_count": 2,
   "metadata": {},
   "outputs": [],
   "source": [
    "import math"
   ]
  },
  {
   "cell_type": "code",
   "execution_count": 3,
   "metadata": {},
   "outputs": [
    {
     "data": {
      "text/plain": [
       "0.8509035245341184"
      ]
     },
     "execution_count": 3,
     "metadata": {},
     "output_type": "execute_result"
    }
   ],
   "source": [
    "math.sin(45)"
   ]
  },
  {
   "cell_type": "code",
   "execution_count": 4,
   "metadata": {},
   "outputs": [
    {
     "name": "stdout",
     "output_type": "stream",
     "text": [
      "le carré de 4 est: 2.0\n"
     ]
    }
   ],
   "source": [
    "print(\"le carré de 4 est:\", math.sqrt(4))"
   ]
  },
  {
   "cell_type": "code",
   "execution_count": 5,
   "metadata": {},
   "outputs": [
    {
     "name": "stdin",
     "output_type": "stream",
     "text": [
      "Where are you from?  yaounde\n"
     ]
    },
    {
     "name": "stdout",
     "output_type": "stream",
     "text": [
      "yaounde is a nice place!\n"
     ]
    }
   ],
   "source": [
    "place = input('Where are you from? ')\n",
    "print(place, 'is a nice place!')"
   ]
  },
  {
   "cell_type": "code",
   "execution_count": 6,
   "metadata": {},
   "outputs": [
    {
     "ename": "SyntaxError",
     "evalue": "invalid syntax (<ipython-input-6-020c037d8f4f>, line 1)",
     "output_type": "error",
     "traceback": [
      "\u001b[1;36m  File \u001b[1;32m\"<ipython-input-6-020c037d8f4f>\"\u001b[1;36m, line \u001b[1;32m1\u001b[0m\n\u001b[1;33m    place = input('D'où venez-vous comme ça? ')\u001b[0m\n\u001b[1;37m                      ^\u001b[0m\n\u001b[1;31mSyntaxError\u001b[0m\u001b[1;31m:\u001b[0m invalid syntax\n"
     ]
    }
   ],
   "source": [
    "place = input('D'où venez-vous comme ça? ')\n",
    "print(place, 'est apparent chouette comme endroit!')"
   ]
  },
  {
   "cell_type": "code",
   "execution_count": 7,
   "metadata": {},
   "outputs": [
    {
     "name": "stdin",
     "output_type": "stream",
     "text": [
      "D'où venez-vous comme ça? Cameroun\n"
     ]
    },
    {
     "name": "stdout",
     "output_type": "stream",
     "text": [
      "Cameroun est apparemment chouette comme endroit!\n"
     ]
    }
   ],
   "source": [
    "place = input(\"D'où venez-vous comme ça?\")\n",
    "print(place, 'est apparemment chouette comme endroit!')"
   ]
  },
  {
   "cell_type": "code",
   "execution_count": 1,
   "metadata": {},
   "outputs": [],
   "source": [
    "def celsius_to_fahr(temp):\n",
    "    return 9/5 * temp + 32"
   ]
  },
  {
   "cell_type": "code",
   "execution_count": 2,
   "metadata": {},
   "outputs": [],
   "source": [
    "freezing_point =  celsius_to_fahr(0)"
   ]
  },
  {
   "cell_type": "code",
   "execution_count": 3,
   "metadata": {},
   "outputs": [
    {
     "name": "stdout",
     "output_type": "stream",
     "text": [
      "The freezing point of water in Fahrenheit is: 32.0\n"
     ]
    }
   ],
   "source": [
    "print('The freezing point of water in Fahrenheit is:', freezing_point)"
   ]
  },
  {
   "cell_type": "code",
   "execution_count": 4,
   "metadata": {},
   "outputs": [
    {
     "name": "stdout",
     "output_type": "stream",
     "text": [
      "The boiling point of water in Fahrenheit is: 212.0\n"
     ]
    }
   ],
   "source": [
    "\n",
    "print('The boiling point of water in Fahrenheit is:', celsius_to_fahr(100))"
   ]
  },
  {
   "cell_type": "code",
   "execution_count": 5,
   "metadata": {},
   "outputs": [
    {
     "ename": "SyntaxError",
     "evalue": "invalid syntax (<ipython-input-5-953097bdf00d>, line 1)",
     "output_type": "error",
     "traceback": [
      "\u001b[1;36m  File \u001b[1;32m\"<ipython-input-5-953097bdf00d>\"\u001b[1;36m, line \u001b[1;32m1\u001b[0m\n\u001b[1;33m    def kelvins_to_celsius (temp kelvins):\u001b[0m\n\u001b[1;37m                                       ^\u001b[0m\n\u001b[1;31mSyntaxError\u001b[0m\u001b[1;31m:\u001b[0m invalid syntax\n"
     ]
    }
   ],
   "source": [
    "def kelvins_to_celsius (temp kelvins):\n",
    "    return temps kelvins-273.15"
   ]
  },
  {
   "cell_type": "code",
   "execution_count": 6,
   "metadata": {},
   "outputs": [],
   "source": [
    "def kelvins_to_celsius (temp_kelvins):\n",
    "    return temp_kelvins-273.15"
   ]
  },
  {
   "cell_type": "code",
   "execution_count": 7,
   "metadata": {},
   "outputs": [
    {
     "ename": "SyntaxError",
     "evalue": "unexpected EOF while parsing (<ipython-input-7-ec0e2f244b40>, line 1)",
     "output_type": "error",
     "traceback": [
      "\u001b[1;36m  File \u001b[1;32m\"<ipython-input-7-ec0e2f244b40>\"\u001b[1;36m, line \u001b[1;32m1\u001b[0m\n\u001b[1;33m    print(\"la valeur en dégrés celsius de 40°K est de:\", kelvins_to_celsius (40)\u001b[0m\n\u001b[1;37m                                                                                ^\u001b[0m\n\u001b[1;31mSyntaxError\u001b[0m\u001b[1;31m:\u001b[0m unexpected EOF while parsing\n"
     ]
    }
   ],
   "source": [
    "print(\"la valeur en dégrés celsius de 40°K est de:\", kelvins_to_celsius (40)"
   ]
  },
  {
   "cell_type": "code",
   "execution_count": 8,
   "metadata": {},
   "outputs": [
    {
     "name": "stdout",
     "output_type": "stream",
     "text": [
      "la valeur en dégrés celsius de 40°K est de: -233.14999999999998\n"
     ]
    }
   ],
   "source": [
    "print(\"la valeur en dégrés celsius de 40°K est de:\", kelvins_to_celsius (40))"
   ]
  },
  {
   "cell_type": "code",
   "execution_count": 9,
   "metadata": {},
   "outputs": [],
   "source": [
    "def hello (name, age):\n",
    "    return name, str(age)"
   ]
  },
  {
   "cell_type": "code",
   "execution_count": 10,
   "metadata": {},
   "outputs": [
    {
     "ename": "SyntaxError",
     "evalue": "invalid syntax (<ipython-input-10-d88bbba12666>, line 1)",
     "output_type": "error",
     "traceback": [
      "\u001b[1;36m  File \u001b[1;32m\"<ipython-input-10-d88bbba12666>\"\u001b[1;36m, line \u001b[1;32m1\u001b[0m\n\u001b[1;33m    print (my name is hello)\u001b[0m\n\u001b[1;37m                 ^\u001b[0m\n\u001b[1;31mSyntaxError\u001b[0m\u001b[1;31m:\u001b[0m invalid syntax\n"
     ]
    }
   ],
   "source": [
    "print (my name is hello)"
   ]
  },
  {
   "cell_type": "code",
   "execution_count": 11,
   "metadata": {},
   "outputs": [
    {
     "name": "stdout",
     "output_type": "stream",
     "text": [
      "<function hello at 0x000000C5B9663A68>\n"
     ]
    }
   ],
   "source": [
    "print (hello)"
   ]
  },
  {
   "cell_type": "code",
   "execution_count": 12,
   "metadata": {},
   "outputs": [
    {
     "name": "stdout",
     "output_type": "stream",
     "text": [
      "Hello, my name is Dave. I am 39 years old.\n"
     ]
    }
   ],
   "source": [
    "def hello(name, age):\n",
    "    return 'Hello, my name is ' + name + '. I am ' + str(age) + ' years old.'\n",
    "\n",
    "output = hello(name='Dave', age=39)\n",
    "print(output)"
   ]
  },
  {
   "cell_type": "code",
   "execution_count": 13,
   "metadata": {},
   "outputs": [
    {
     "name": "stdout",
     "output_type": "stream",
     "text": [
      "<function hello at 0x000000C5B96630D8>\n"
     ]
    }
   ],
   "source": [
    "print (hello)"
   ]
  },
  {
   "cell_type": "code",
   "execution_count": 14,
   "metadata": {},
   "outputs": [
    {
     "data": {
      "text/plain": [
       "<function __main__.hello(name, age)>"
      ]
     },
     "execution_count": 14,
     "metadata": {},
     "output_type": "execute_result"
    }
   ],
   "source": [
    "hello"
   ]
  },
  {
   "cell_type": "code",
   "execution_count": 15,
   "metadata": {},
   "outputs": [
    {
     "ename": "NameError",
     "evalue": "name 'Ariel' is not defined",
     "output_type": "error",
     "traceback": [
      "\u001b[1;31m---------------------------------------------------------------------------\u001b[0m",
      "\u001b[1;31mNameError\u001b[0m                                 Traceback (most recent call last)",
      "\u001b[1;32m<ipython-input-15-9f2ae8e68495>\u001b[0m in \u001b[0;36m<module>\u001b[1;34m\u001b[0m\n\u001b[1;32m----> 1\u001b[1;33m \u001b[0mhello\u001b[0m \u001b[1;33m(\u001b[0m\u001b[0mAriel\u001b[0m\u001b[1;33m,\u001b[0m \u001b[1;36m32\u001b[0m\u001b[1;33m)\u001b[0m\u001b[1;33m\u001b[0m\u001b[1;33m\u001b[0m\u001b[0m\n\u001b[0m",
      "\u001b[1;31mNameError\u001b[0m: name 'Ariel' is not defined"
     ]
    }
   ],
   "source": [
    "hello (Ariel, 32)"
   ]
  },
  {
   "cell_type": "code",
   "execution_count": 16,
   "metadata": {},
   "outputs": [
    {
     "data": {
      "text/plain": [
       "'Hello, my name is Ariel. I am 34 years old.'"
      ]
     },
     "execution_count": 16,
     "metadata": {},
     "output_type": "execute_result"
    }
   ],
   "source": [
    "hello ('Ariel', 34)"
   ]
  },
  {
   "cell_type": "code",
   "execution_count": 17,
   "metadata": {},
   "outputs": [
    {
     "name": "stdout",
     "output_type": "stream",
     "text": [
      "Hello, my name is Arie. I am 34 years old.\n"
     ]
    }
   ],
   "source": [
    "print (hello('Arie', 34))"
   ]
  },
  {
   "cell_type": "code",
   "execution_count": 20,
   "metadata": {},
   "outputs": [],
   "source": [
    "def kelvins_to_fahr(temp_kelvins):\n",
    "    temp_celsius = kelvins_to_celsius(temp_kelvins)\n",
    "    temp_fahr = celsius_to_fahr(temp_celsius)\n",
    "    return temp_fahr"
   ]
  },
  {
   "cell_type": "code",
   "execution_count": 19,
   "metadata": {},
   "outputs": [
    {
     "ename": "NameError",
     "evalue": "name 'temp' is not defined",
     "output_type": "error",
     "traceback": [
      "\u001b[1;31m---------------------------------------------------------------------------\u001b[0m",
      "\u001b[1;31mNameError\u001b[0m                                 Traceback (most recent call last)",
      "\u001b[1;32m<ipython-input-19-b5f302c3d269>\u001b[0m in \u001b[0;36m<module>\u001b[1;34m\u001b[0m\n\u001b[1;32m----> 1\u001b[1;33m \u001b[0mprint\u001b[0m \u001b[1;33m(\u001b[0m\u001b[0mkelvins_to_fahr\u001b[0m\u001b[1;33m(\u001b[0m\u001b[1;36m40\u001b[0m\u001b[1;33m)\u001b[0m\u001b[1;33m)\u001b[0m\u001b[1;33m\u001b[0m\u001b[1;33m\u001b[0m\u001b[0m\n\u001b[0m",
      "\u001b[1;32m<ipython-input-18-134d24c66564>\u001b[0m in \u001b[0;36mkelvins_to_fahr\u001b[1;34m(temp_kelvins)\u001b[0m\n\u001b[0;32m      1\u001b[0m \u001b[1;32mdef\u001b[0m \u001b[0mkelvins_to_fahr\u001b[0m\u001b[1;33m(\u001b[0m\u001b[0mtemp_kelvins\u001b[0m\u001b[1;33m)\u001b[0m\u001b[1;33m:\u001b[0m\u001b[1;33m\u001b[0m\u001b[1;33m\u001b[0m\u001b[0m\n\u001b[0;32m      2\u001b[0m     \u001b[0mtemp_celsius\u001b[0m \u001b[1;33m=\u001b[0m \u001b[0mkelvins_to_celsius\u001b[0m\u001b[1;33m(\u001b[0m\u001b[0mtemp_kelvins\u001b[0m\u001b[1;33m)\u001b[0m\u001b[1;33m\u001b[0m\u001b[1;33m\u001b[0m\u001b[0m\n\u001b[1;32m----> 3\u001b[1;33m     \u001b[0mtemp_fahr\u001b[0m \u001b[1;33m=\u001b[0m \u001b[0mcelsius_to_fahr\u001b[0m\u001b[1;33m(\u001b[0m\u001b[0mtemp\u001b[0m\u001b[1;33m)\u001b[0m\u001b[1;33m\u001b[0m\u001b[1;33m\u001b[0m\u001b[0m\n\u001b[0m\u001b[0;32m      4\u001b[0m     \u001b[1;32mreturn\u001b[0m \u001b[0mtemp_fahr\u001b[0m\u001b[1;33m\u001b[0m\u001b[1;33m\u001b[0m\u001b[0m\n",
      "\u001b[1;31mNameError\u001b[0m: name 'temp' is not defined"
     ]
    }
   ],
   "source": [
    "print (kelvins_to_fahr(40))"
   ]
  },
  {
   "cell_type": "code",
   "execution_count": 21,
   "metadata": {},
   "outputs": [
    {
     "data": {
      "text/plain": [
       "-387.66999999999996"
      ]
     },
     "execution_count": 21,
     "metadata": {},
     "output_type": "execute_result"
    }
   ],
   "source": [
    "kelvins_to_fahr(40)"
   ]
  },
  {
   "cell_type": "code",
   "execution_count": 22,
   "metadata": {
    "scrolled": true
   },
   "outputs": [
    {
     "ename": "NameError",
     "evalue": "name 'celsius_to_far' is not defined",
     "output_type": "error",
     "traceback": [
      "\u001b[1;31m---------------------------------------------------------------------------\u001b[0m",
      "\u001b[1;31mNameError\u001b[0m                                 Traceback (most recent call last)",
      "\u001b[1;32m<ipython-input-22-a89ecf87e593>\u001b[0m in \u001b[0;36m<module>\u001b[1;34m\u001b[0m\n\u001b[1;32m----> 1\u001b[1;33m \u001b[0mcelsius_to_far\u001b[0m\u001b[1;33m(\u001b[0m\u001b[1;36m40\u001b[0m\u001b[1;33m)\u001b[0m\u001b[1;33m\u001b[0m\u001b[1;33m\u001b[0m\u001b[0m\n\u001b[0m",
      "\u001b[1;31mNameError\u001b[0m: name 'celsius_to_far' is not defined"
     ]
    }
   ],
   "source": [
    "celsius_to_far(40)"
   ]
  },
  {
   "cell_type": "code",
   "execution_count": 23,
   "metadata": {},
   "outputs": [
    {
     "data": {
      "text/plain": [
       "120.2"
      ]
     },
     "execution_count": 23,
     "metadata": {},
     "output_type": "execute_result"
    }
   ],
   "source": [
    "celsius_to_fahr(49)"
   ]
  },
  {
   "cell_type": "code",
   "execution_count": 24,
   "metadata": {},
   "outputs": [
    {
     "name": "stdout",
     "output_type": "stream",
     "text": [
      " Le volume dans le lecteur C n'a pas de nom.\n",
      " Le num‚ro de s‚rie du volume est 1615-AAC5\n",
      "\n",
      " R‚pertoire de C:\\Users\\Njh\n",
      "\n",
      "08/04/2020  00:57    <DIR>          .\n",
      "08/04/2020  00:57    <DIR>          ..\n",
      "28/12/2019  13:08    <DIR>          .cache\n",
      "04/04/2020  20:57    <DIR>          .conda\n",
      "04/04/2020  18:05                43 .condarc\n",
      "03/04/2020  10:22    <DIR>          .idlerc\n",
      "08/04/2020  00:49    <DIR>          .ipynb_checkpoints\n",
      "04/04/2020  18:06    <DIR>          .ipython\n",
      "05/04/2020  19:23    <DIR>          .jupyter\n",
      "05/04/2020  21:39    <DIR>          anaconda3\n",
      "28/12/2019  12:40    <DIR>          Contacts\n",
      "07/04/2020  00:22    <DIR>          Desktop\n",
      "06/04/2020  13:33    <DIR>          Documents\n",
      "06/04/2020  16:21    <DIR>          Downloads\n",
      "28/12/2019  12:40    <DIR>          Favorites\n",
      "28/12/2019  12:40    <DIR>          Links\n",
      "28/12/2019  12:40    <DIR>          Music\n",
      "08/04/2020  00:46            13ÿ825 Njh.ipynb\n",
      "28/03/2020  07:16    <DIR>          OneDrive\n",
      "05/03/2020  09:24    <DIR>          Pictures\n",
      "28/12/2019  12:40    <DIR>          Saved Games\n",
      "28/12/2019  12:41    <DIR>          Searches\n",
      "08/04/2020  00:57               295 temp_converter.py\n",
      "07/04/2020  04:05    <DIR>          Videos\n",
      "               3 fichier(s)           14ÿ163 octets\n",
      "              21 R‚p(s)   4ÿ858ÿ343ÿ424 octets libres\n"
     ]
    }
   ],
   "source": [
    "%ls"
   ]
  },
  {
   "cell_type": "code",
   "execution_count": 25,
   "metadata": {},
   "outputs": [
    {
     "name": "stdout",
     "output_type": "stream",
     "text": [
      "[WinError 2] Le fichier spécifié est introuvable: 'L4/'\n",
      "C:\\Users\\Njh\n"
     ]
    }
   ],
   "source": [
    "%cd L4/"
   ]
  },
  {
   "cell_type": "code",
   "execution_count": 26,
   "metadata": {},
   "outputs": [
    {
     "ename": "ModuleNotFoundError",
     "evalue": "No module named 'temp_coverter'",
     "output_type": "error",
     "traceback": [
      "\u001b[1;31m---------------------------------------------------------------------------\u001b[0m",
      "\u001b[1;31mModuleNotFoundError\u001b[0m                       Traceback (most recent call last)",
      "\u001b[1;32m<ipython-input-26-274b441de6da>\u001b[0m in \u001b[0;36m<module>\u001b[1;34m\u001b[0m\n\u001b[1;32m----> 1\u001b[1;33m \u001b[1;32mfrom\u001b[0m \u001b[0mtemp_coverter\u001b[0m \u001b[1;32mimport\u001b[0m \u001b[1;33m(\u001b[0m\u001b[0mcelsius_to_fahr\u001b[0m\u001b[1;33m)\u001b[0m\u001b[1;33m\u001b[0m\u001b[1;33m\u001b[0m\u001b[0m\n\u001b[0m",
      "\u001b[1;31mModuleNotFoundError\u001b[0m: No module named 'temp_coverter'"
     ]
    }
   ],
   "source": [
    "from temp_coverter import (celsius_to_fahr)"
   ]
  },
  {
   "cell_type": "code",
   "execution_count": 27,
   "metadata": {},
   "outputs": [
    {
     "ename": "ModuleNotFoundError",
     "evalue": "No module named 'temp_coverter'",
     "output_type": "error",
     "traceback": [
      "\u001b[1;31m---------------------------------------------------------------------------\u001b[0m",
      "\u001b[1;31mModuleNotFoundError\u001b[0m                       Traceback (most recent call last)",
      "\u001b[1;32m<ipython-input-27-3ec4fffb0df0>\u001b[0m in \u001b[0;36m<module>\u001b[1;34m\u001b[0m\n\u001b[1;32m----> 1\u001b[1;33m \u001b[1;32mfrom\u001b[0m \u001b[0mtemp_coverter\u001b[0m \u001b[1;32mimport\u001b[0m \u001b[0mcelsius_to_fahr\u001b[0m\u001b[1;33m\u001b[0m\u001b[1;33m\u001b[0m\u001b[0m\n\u001b[0m",
      "\u001b[1;31mModuleNotFoundError\u001b[0m: No module named 'temp_coverter'"
     ]
    }
   ],
   "source": [
    "from temp_coverter import celsius_to_fahr"
   ]
  },
  {
   "cell_type": "code",
   "execution_count": 28,
   "metadata": {},
   "outputs": [
    {
     "name": "stdout",
     "output_type": "stream",
     "text": [
      "[WinError 2] Le fichier spécifié est introuvable: '13ÿ825'\n",
      "C:\\Users\\Njh\n"
     ]
    }
   ],
   "source": [
    "%cd 13ÿ825"
   ]
  },
  {
   "cell_type": "code",
   "execution_count": 29,
   "metadata": {},
   "outputs": [
    {
     "name": "stdout",
     "output_type": "stream",
     "text": [
      "[WinError 2] Le fichier spécifié est introuvable: '245'\n",
      "C:\\Users\\Njh\n"
     ]
    }
   ],
   "source": [
    "%cd 245"
   ]
  },
  {
   "cell_type": "code",
   "execution_count": 30,
   "metadata": {},
   "outputs": [
    {
     "name": "stdout",
     "output_type": "stream",
     "text": [
      "[WinError 2] Le fichier spécifié est introuvable: '295'\n",
      "C:\\Users\\Njh\n"
     ]
    }
   ],
   "source": [
    "%cd 295"
   ]
  },
  {
   "cell_type": "code",
   "execution_count": 31,
   "metadata": {},
   "outputs": [
    {
     "name": "stdout",
     "output_type": "stream",
     "text": [
      "[WinError 2] Le fichier spécifié est introuvable: 'Njh245'\n",
      "C:\\Users\\Njh\n"
     ]
    }
   ],
   "source": [
    "%cd Njh245"
   ]
  },
  {
   "cell_type": "code",
   "execution_count": 32,
   "metadata": {},
   "outputs": [
    {
     "name": "stdout",
     "output_type": "stream",
     "text": [
      " Le volume dans le lecteur C n'a pas de nom.\n",
      " Le num‚ro de s‚rie du volume est 1615-AAC5\n",
      "\n",
      " R‚pertoire de C:\\Users\\Njh\n",
      "\n",
      "08/04/2020  01:12    <DIR>          .\n",
      "08/04/2020  01:12    <DIR>          ..\n",
      "28/12/2019  13:08    <DIR>          .cache\n",
      "04/04/2020  20:57    <DIR>          .conda\n",
      "04/04/2020  18:05                43 .condarc\n",
      "03/04/2020  10:22    <DIR>          .idlerc\n",
      "08/04/2020  00:49    <DIR>          .ipynb_checkpoints\n",
      "04/04/2020  18:06    <DIR>          .ipython\n",
      "05/04/2020  19:23    <DIR>          .jupyter\n",
      "05/04/2020  21:39    <DIR>          anaconda3\n",
      "28/12/2019  12:40    <DIR>          Contacts\n",
      "07/04/2020  00:22    <DIR>          Desktop\n",
      "06/04/2020  13:33    <DIR>          Documents\n",
      "08/04/2020  01:03    <DIR>          Downloads\n",
      "28/12/2019  12:40    <DIR>          Favorites\n",
      "28/12/2019  12:40    <DIR>          Links\n",
      "28/12/2019  12:40    <DIR>          Music\n",
      "08/04/2020  01:12            19ÿ240 Njh.ipynb\n",
      "28/03/2020  07:16    <DIR>          OneDrive\n",
      "05/03/2020  09:24    <DIR>          Pictures\n",
      "28/12/2019  12:40    <DIR>          Saved Games\n",
      "28/12/2019  12:41    <DIR>          Searches\n",
      "08/04/2020  00:57               295 temp_converter.py\n",
      "07/04/2020  04:05    <DIR>          Videos\n",
      "               3 fichier(s)           19ÿ578 octets\n",
      "              21 R‚p(s)   4ÿ857ÿ864ÿ192 octets libres\n"
     ]
    }
   ],
   "source": [
    "%ls"
   ]
  },
  {
   "cell_type": "code",
   "execution_count": 33,
   "metadata": {},
   "outputs": [
    {
     "name": "stdout",
     "output_type": "stream",
     "text": [
      "[WinError 2] Le fichier spécifié est introuvable: 'Njh/'\n",
      "C:\\Users\\Njh\n"
     ]
    }
   ],
   "source": [
    "%cd Njh/"
   ]
  },
  {
   "cell_type": "code",
   "execution_count": 34,
   "metadata": {},
   "outputs": [
    {
     "name": "stdout",
     "output_type": "stream",
     "text": [
      "[WinError 2] Le fichier spécifié est introuvable: 'temp_converter'\n",
      "C:\\Users\\Njh\n"
     ]
    }
   ],
   "source": [
    "%cd temp_converter"
   ]
  },
  {
   "cell_type": "code",
   "execution_count": 35,
   "metadata": {},
   "outputs": [
    {
     "name": "stdout",
     "output_type": "stream",
     "text": [
      "[WinError 3] Le chemin d’accès spécifié est introuvable: 'Njh/295 temp_converter.py'\n",
      "C:\\Users\\Njh\n"
     ]
    }
   ],
   "source": [
    "%cd Njh/295 temp_converter.py"
   ]
  },
  {
   "cell_type": "code",
   "execution_count": 36,
   "metadata": {},
   "outputs": [
    {
     "name": "stdout",
     "output_type": "stream",
     "text": [
      "[WinError 3] Le chemin d’accès spécifié est introuvable: 'Users/Njh'\n",
      "C:\\Users\\Njh\n"
     ]
    }
   ],
   "source": [
    "%cd Users/Njh"
   ]
  },
  {
   "cell_type": "code",
   "execution_count": 37,
   "metadata": {},
   "outputs": [
    {
     "name": "stdout",
     "output_type": "stream",
     "text": [
      "[WinError 2] Le fichier spécifié est introuvable: 'Njh/'\n",
      "C:\\Users\\Njh\n"
     ]
    }
   ],
   "source": [
    "%cd Njh/"
   ]
  },
  {
   "cell_type": "code",
   "execution_count": 38,
   "metadata": {},
   "outputs": [
    {
     "data": {
      "text/plain": [
       "'C:\\\\Users\\\\Njh'"
      ]
     },
     "execution_count": 38,
     "metadata": {},
     "output_type": "execute_result"
    }
   ],
   "source": [
    "%pwd"
   ]
  },
  {
   "cell_type": "code",
   "execution_count": 39,
   "metadata": {},
   "outputs": [
    {
     "name": "stdout",
     "output_type": "stream",
     "text": [
      "C:\\Users\\Njh\n"
     ]
    }
   ],
   "source": [
    "%cd C:\\\\Users\\\\Njh"
   ]
  },
  {
   "cell_type": "code",
   "execution_count": 40,
   "metadata": {},
   "outputs": [
    {
     "name": "stdout",
     "output_type": "stream",
     "text": [
      " Le volume dans le lecteur C n'a pas de nom.\n",
      " Le num‚ro de s‚rie du volume est 1615-AAC5\n",
      "\n",
      " R‚pertoire de C:\\Users\\Njh\n",
      "\n",
      "08/04/2020  01:32    <DIR>          .\n",
      "08/04/2020  01:32    <DIR>          ..\n",
      "28/12/2019  13:08    <DIR>          .cache\n",
      "04/04/2020  20:57    <DIR>          .conda\n",
      "04/04/2020  18:05                43 .condarc\n",
      "03/04/2020  10:22    <DIR>          .idlerc\n",
      "08/04/2020  01:20    <DIR>          .ipynb_checkpoints\n",
      "04/04/2020  18:06    <DIR>          .ipython\n",
      "05/04/2020  19:23    <DIR>          .jupyter\n",
      "05/04/2020  21:39    <DIR>          anaconda3\n",
      "28/12/2019  12:40    <DIR>          Contacts\n",
      "07/04/2020  00:22    <DIR>          Desktop\n",
      "06/04/2020  13:33    <DIR>          Documents\n",
      "08/04/2020  01:03    <DIR>          Downloads\n",
      "28/12/2019  12:40    <DIR>          Favorites\n",
      "28/12/2019  12:40    <DIR>          Links\n",
      "28/12/2019  12:40    <DIR>          Music\n",
      "08/04/2020  01:32            22ÿ923 Njh.ipynb\n",
      "28/03/2020  07:16    <DIR>          OneDrive\n",
      "05/03/2020  09:24    <DIR>          Pictures\n",
      "28/12/2019  12:40    <DIR>          Saved Games\n",
      "28/12/2019  12:41    <DIR>          Searches\n",
      "08/04/2020  00:57               295 temp_converter.py\n",
      "08/04/2020  01:23             2ÿ493 Untitled.ipynb\n",
      "07/04/2020  04:05    <DIR>          Videos\n",
      "               4 fichier(s)           25ÿ754 octets\n",
      "              21 R‚p(s)   4ÿ855ÿ697ÿ408 octets libres\n"
     ]
    }
   ],
   "source": [
    "%ls"
   ]
  },
  {
   "cell_type": "code",
   "execution_count": 41,
   "metadata": {},
   "outputs": [],
   "source": [
    "from temp_converter import celsius_to_fahr"
   ]
  },
  {
   "cell_type": "code",
   "execution_count": 42,
   "metadata": {},
   "outputs": [
    {
     "data": {
      "text/plain": [
       "104.0"
      ]
     },
     "execution_count": 42,
     "metadata": {},
     "output_type": "execute_result"
    }
   ],
   "source": [
    "celsius_to_fahr(40)"
   ]
  },
  {
   "cell_type": "code",
   "execution_count": 43,
   "metadata": {},
   "outputs": [
    {
     "ename": "SyntaxError",
     "evalue": "invalid syntax (<ipython-input-43-ce837a6a2dad>, line 1)",
     "output_type": "error",
     "traceback": [
      "\u001b[1;36m  File \u001b[1;32m\"<ipython-input-43-ce837a6a2dad>\"\u001b[1;36m, line \u001b[1;32m1\u001b[0m\n\u001b[1;33m    print ('Le point de saturation de leau en Farenheint est:' celsius_to_fahr(0))\u001b[0m\n\u001b[1;37m                                                                             ^\u001b[0m\n\u001b[1;31mSyntaxError\u001b[0m\u001b[1;31m:\u001b[0m invalid syntax\n"
     ]
    }
   ],
   "source": [
    "print ('Le point de saturation de leau en Farenheint est:' celsius_to_fahr(0))"
   ]
  },
  {
   "cell_type": "code",
   "execution_count": 44,
   "metadata": {},
   "outputs": [
    {
     "name": "stdout",
     "output_type": "stream",
     "text": [
      "Le point de saturation de leau en Farenheint est: 32.0\n"
     ]
    }
   ],
   "source": [
    "print ('Le point de saturation de leau en Farenheint est:' , celsius_to_fahr(0))"
   ]
  },
  {
   "cell_type": "code",
   "execution_count": 45,
   "metadata": {},
   "outputs": [],
   "source": [
    "import temp_converter as tc"
   ]
  },
  {
   "cell_type": "code",
   "execution_count": 46,
   "metadata": {},
   "outputs": [],
   "source": [
    "def temp_calculator(temp_k, convert_to):\n",
    "        # Check if user wants the temperature in Celsius\n",
    "    if convert_to == \"C\":\n",
    "        # Convert the value to Celsius using the dedicated function for the task that we imported from another script\n",
    "        converted_temp = kelvins_to_celsius(temp_kelvins=temp_k)\n",
    "    elif convert_to == \"F\":\n",
    "        # Convert the value to Fahrenheit using the dedicated function for the task that we imported from another script\n",
    "        converted_temp = kelvins_to_fahr(temp_kelvins=temp_k)\n",
    "        # Return the result\n",
    "    return converted_temp"
   ]
  },
  {
   "cell_type": "code",
   "execution_count": 47,
   "metadata": {},
   "outputs": [
    {
     "ename": "SyntaxError",
     "evalue": "invalid syntax (<ipython-input-47-4c288c2588cf>, line 1)",
     "output_type": "error",
     "traceback": [
      "\u001b[1;36m  File \u001b[1;32m\"<ipython-input-47-4c288c2588cf>\"\u001b[1;36m, line \u001b[1;32m1\u001b[0m\n\u001b[1;33m    help temp_calculator\u001b[0m\n\u001b[1;37m                       ^\u001b[0m\n\u001b[1;31mSyntaxError\u001b[0m\u001b[1;31m:\u001b[0m invalid syntax\n"
     ]
    }
   ],
   "source": [
    "help temp_calculator"
   ]
  },
  {
   "cell_type": "code",
   "execution_count": 48,
   "metadata": {},
   "outputs": [
    {
     "name": "stdout",
     "output_type": "stream",
     "text": [
      "Help on function temp_calculator in module __main__:\n",
      "\n",
      "temp_calculator(temp_k, convert_to)\n",
      "\n"
     ]
    }
   ],
   "source": [
    "help(temp_calculator)"
   ]
  },
  {
   "cell_type": "code",
   "execution_count": 49,
   "metadata": {},
   "outputs": [
    {
     "ename": "NameError",
     "evalue": "name 'covert_to' is not defined",
     "output_type": "error",
     "traceback": [
      "\u001b[1;31m---------------------------------------------------------------------------\u001b[0m",
      "\u001b[1;31mNameError\u001b[0m                                 Traceback (most recent call last)",
      "\u001b[1;32m<ipython-input-49-3329f511f0cf>\u001b[0m in \u001b[0;36m<module>\u001b[1;34m\u001b[0m\n\u001b[1;32m----> 1\u001b[1;33m \u001b[0mtype\u001b[0m\u001b[1;33m(\u001b[0m\u001b[0mcovert_to\u001b[0m\u001b[1;33m)\u001b[0m\u001b[1;33m\u001b[0m\u001b[1;33m\u001b[0m\u001b[0m\n\u001b[0m",
      "\u001b[1;31mNameError\u001b[0m: name 'covert_to' is not defined"
     ]
    }
   ],
   "source": [
    "type(covert_to)"
   ]
  },
  {
   "cell_type": "code",
   "execution_count": 50,
   "metadata": {},
   "outputs": [
    {
     "ename": "NameError",
     "evalue": "name 'convert_to' is not defined",
     "output_type": "error",
     "traceback": [
      "\u001b[1;31m---------------------------------------------------------------------------\u001b[0m",
      "\u001b[1;31mNameError\u001b[0m                                 Traceback (most recent call last)",
      "\u001b[1;32m<ipython-input-50-9e380c52b22c>\u001b[0m in \u001b[0;36m<module>\u001b[1;34m\u001b[0m\n\u001b[1;32m----> 1\u001b[1;33m \u001b[0mtype\u001b[0m\u001b[1;33m(\u001b[0m\u001b[0mconvert_to\u001b[0m\u001b[1;33m)\u001b[0m\u001b[1;33m\u001b[0m\u001b[1;33m\u001b[0m\u001b[0m\n\u001b[0m",
      "\u001b[1;31mNameError\u001b[0m: name 'convert_to' is not defined"
     ]
    }
   ],
   "source": [
    "type(convert_to)"
   ]
  },
  {
   "cell_type": "code",
   "execution_count": 51,
   "metadata": {},
   "outputs": [
    {
     "data": {
      "text/plain": [
       "function"
      ]
     },
     "execution_count": 51,
     "metadata": {},
     "output_type": "execute_result"
    }
   ],
   "source": [
    "type (temp_calculator)"
   ]
  },
  {
   "cell_type": "code",
   "execution_count": 52,
   "metadata": {},
   "outputs": [
    {
     "ename": "AttributeError",
     "evalue": "module 'temp_converter' has no attribute 'temp_calculator'",
     "output_type": "error",
     "traceback": [
      "\u001b[1;31m---------------------------------------------------------------------------\u001b[0m",
      "\u001b[1;31mAttributeError\u001b[0m                            Traceback (most recent call last)",
      "\u001b[1;32m<ipython-input-52-e67aa7d52f55>\u001b[0m in \u001b[0;36m<module>\u001b[1;34m\u001b[0m\n\u001b[1;32m----> 1\u001b[1;33m \u001b[0mhelp\u001b[0m\u001b[1;33m(\u001b[0m\u001b[0mtc\u001b[0m\u001b[1;33m.\u001b[0m\u001b[0mtemp_calculator\u001b[0m\u001b[1;33m)\u001b[0m\u001b[1;33m\u001b[0m\u001b[1;33m\u001b[0m\u001b[0m\n\u001b[0m",
      "\u001b[1;31mAttributeError\u001b[0m: module 'temp_converter' has no attribute 'temp_calculator'"
     ]
    }
   ],
   "source": [
    "help(tc.temp_calculator)"
   ]
  },
  {
   "cell_type": "code",
   "execution_count": 53,
   "metadata": {},
   "outputs": [],
   "source": [
    "import temp_converter as tc"
   ]
  },
  {
   "cell_type": "code",
   "execution_count": 54,
   "metadata": {},
   "outputs": [
    {
     "ename": "AttributeError",
     "evalue": "module 'temp_converter' has no attribute 'temp_calculator'",
     "output_type": "error",
     "traceback": [
      "\u001b[1;31m---------------------------------------------------------------------------\u001b[0m",
      "\u001b[1;31mAttributeError\u001b[0m                            Traceback (most recent call last)",
      "\u001b[1;32m<ipython-input-54-e67aa7d52f55>\u001b[0m in \u001b[0;36m<module>\u001b[1;34m\u001b[0m\n\u001b[1;32m----> 1\u001b[1;33m \u001b[0mhelp\u001b[0m\u001b[1;33m(\u001b[0m\u001b[0mtc\u001b[0m\u001b[1;33m.\u001b[0m\u001b[0mtemp_calculator\u001b[0m\u001b[1;33m)\u001b[0m\u001b[1;33m\u001b[0m\u001b[1;33m\u001b[0m\u001b[0m\n\u001b[0m",
      "\u001b[1;31mAttributeError\u001b[0m: module 'temp_converter' has no attribute 'temp_calculator'"
     ]
    }
   ],
   "source": [
    "help(tc.temp_calculator)"
   ]
  },
  {
   "cell_type": "code",
   "execution_count": 55,
   "metadata": {},
   "outputs": [
    {
     "name": "stdout",
     "output_type": "stream",
     "text": [
      "La valeur de température 30 en °K est égale à -243.14999999999998 °C\n"
     ]
    }
   ],
   "source": [
    "print ('La valeur de température 30 en °K est égale à', temp_calculator(30, 'C'), '°C')"
   ]
  },
  {
   "cell_type": "code",
   "execution_count": 56,
   "metadata": {},
   "outputs": [],
   "source": [
    "import math"
   ]
  },
  {
   "cell_type": "code",
   "execution_count": 57,
   "metadata": {},
   "outputs": [
    {
     "ename": "NameError",
     "evalue": "name 'sqrt' is not defined",
     "output_type": "error",
     "traceback": [
      "\u001b[1;31m---------------------------------------------------------------------------\u001b[0m",
      "\u001b[1;31mNameError\u001b[0m                                 Traceback (most recent call last)",
      "\u001b[1;32m<ipython-input-57-ef2dc5896f23>\u001b[0m in \u001b[0;36m<module>\u001b[1;34m\u001b[0m\n\u001b[1;32m----> 1\u001b[1;33m \u001b[0msqrt\u001b[0m\u001b[1;33m(\u001b[0m\u001b[1;36m5\u001b[0m\u001b[1;33m)\u001b[0m\u001b[1;33m\u001b[0m\u001b[1;33m\u001b[0m\u001b[0m\n\u001b[0m",
      "\u001b[1;31mNameError\u001b[0m: name 'sqrt' is not defined"
     ]
    }
   ],
   "source": [
    "sqrt(5)"
   ]
  },
  {
   "cell_type": "code",
   "execution_count": 58,
   "metadata": {},
   "outputs": [
    {
     "ename": "NameError",
     "evalue": "name 'sqt' is not defined",
     "output_type": "error",
     "traceback": [
      "\u001b[1;31m---------------------------------------------------------------------------\u001b[0m",
      "\u001b[1;31mNameError\u001b[0m                                 Traceback (most recent call last)",
      "\u001b[1;32m<ipython-input-58-002563ea51ad>\u001b[0m in \u001b[0;36m<module>\u001b[1;34m\u001b[0m\n\u001b[1;32m----> 1\u001b[1;33m \u001b[0msqt\u001b[0m\u001b[1;33m(\u001b[0m\u001b[1;36m5\u001b[0m\u001b[1;33m)\u001b[0m\u001b[1;33m\u001b[0m\u001b[1;33m\u001b[0m\u001b[0m\n\u001b[0m",
      "\u001b[1;31mNameError\u001b[0m: name 'sqt' is not defined"
     ]
    }
   ],
   "source": [
    "sqt(5)"
   ]
  },
  {
   "cell_type": "code",
   "execution_count": 59,
   "metadata": {},
   "outputs": [
    {
     "data": {
      "text/plain": [
       "9.0"
      ]
     },
     "execution_count": 59,
     "metadata": {},
     "output_type": "execute_result"
    }
   ],
   "source": [
    "math.sqrt(81)"
   ]
  },
  {
   "cell_type": "code",
   "execution_count": 60,
   "metadata": {},
   "outputs": [
    {
     "name": "stdout",
     "output_type": "stream",
     "text": [
      "['__doc__', '__loader__', '__name__', '__package__', '__spec__', 'acos', 'acosh', 'asin', 'asinh', 'atan', 'atan2', 'atanh', 'ceil', 'copysign', 'cos', 'cosh', 'degrees', 'e', 'erf', 'erfc', 'exp', 'expm1', 'fabs', 'factorial', 'floor', 'fmod', 'frexp', 'fsum', 'gamma', 'gcd', 'hypot', 'inf', 'isclose', 'isfinite', 'isinf', 'isnan', 'ldexp', 'lgamma', 'log', 'log10', 'log1p', 'log2', 'modf', 'nan', 'pi', 'pow', 'radians', 'remainder', 'sin', 'sinh', 'sqrt', 'tan', 'tanh', 'tau', 'trunc']\n"
     ]
    }
   ],
   "source": [
    "print(dir(math))"
   ]
  },
  {
   "cell_type": "code",
   "execution_count": 61,
   "metadata": {},
   "outputs": [
    {
     "name": "stdout",
     "output_type": "stream",
     "text": [
      "['__annotations__', '__call__', '__class__', '__closure__', '__code__', '__defaults__', '__delattr__', '__dict__', '__dir__', '__doc__', '__eq__', '__format__', '__ge__', '__get__', '__getattribute__', '__globals__', '__gt__', '__hash__', '__init__', '__init_subclass__', '__kwdefaults__', '__le__', '__lt__', '__module__', '__name__', '__ne__', '__new__', '__qualname__', '__reduce__', '__reduce_ex__', '__repr__', '__setattr__', '__sizeof__', '__str__', '__subclasshook__']\n"
     ]
    }
   ],
   "source": [
    "print(dir(temp_calculator))"
   ]
  },
  {
   "cell_type": "code",
   "execution_count": 62,
   "metadata": {},
   "outputs": [
    {
     "ename": "SyntaxError",
     "evalue": "invalid syntax (<ipython-input-62-6994845579ab>, line 1)",
     "output_type": "error",
     "traceback": [
      "\u001b[1;36m  File \u001b[1;32m\"<ipython-input-62-6994845579ab>\"\u001b[1;36m, line \u001b[1;32m1\u001b[0m\n\u001b[1;33m    math.\u001b[0m\n\u001b[1;37m         ^\u001b[0m\n\u001b[1;31mSyntaxError\u001b[0m\u001b[1;31m:\u001b[0m invalid syntax\n"
     ]
    }
   ],
   "source": [
    "math."
   ]
  },
  {
   "cell_type": "code",
   "execution_count": 63,
   "metadata": {},
   "outputs": [
    {
     "name": "stdout",
     "output_type": "stream",
     "text": [
      "Help on built-in module math:\n",
      "\n",
      "NAME\n",
      "    math\n",
      "\n",
      "DESCRIPTION\n",
      "    This module provides access to the mathematical functions\n",
      "    defined by the C standard.\n",
      "\n",
      "FUNCTIONS\n",
      "    acos(x, /)\n",
      "        Return the arc cosine (measured in radians) of x.\n",
      "    \n",
      "    acosh(x, /)\n",
      "        Return the inverse hyperbolic cosine of x.\n",
      "    \n",
      "    asin(x, /)\n",
      "        Return the arc sine (measured in radians) of x.\n",
      "    \n",
      "    asinh(x, /)\n",
      "        Return the inverse hyperbolic sine of x.\n",
      "    \n",
      "    atan(x, /)\n",
      "        Return the arc tangent (measured in radians) of x.\n",
      "    \n",
      "    atan2(y, x, /)\n",
      "        Return the arc tangent (measured in radians) of y/x.\n",
      "        \n",
      "        Unlike atan(y/x), the signs of both x and y are considered.\n",
      "    \n",
      "    atanh(x, /)\n",
      "        Return the inverse hyperbolic tangent of x.\n",
      "    \n",
      "    ceil(x, /)\n",
      "        Return the ceiling of x as an Integral.\n",
      "        \n",
      "        This is the smallest integer >= x.\n",
      "    \n",
      "    copysign(x, y, /)\n",
      "        Return a float with the magnitude (absolute value) of x but the sign of y.\n",
      "        \n",
      "        On platforms that support signed zeros, copysign(1.0, -0.0)\n",
      "        returns -1.0.\n",
      "    \n",
      "    cos(x, /)\n",
      "        Return the cosine of x (measured in radians).\n",
      "    \n",
      "    cosh(x, /)\n",
      "        Return the hyperbolic cosine of x.\n",
      "    \n",
      "    degrees(x, /)\n",
      "        Convert angle x from radians to degrees.\n",
      "    \n",
      "    erf(x, /)\n",
      "        Error function at x.\n",
      "    \n",
      "    erfc(x, /)\n",
      "        Complementary error function at x.\n",
      "    \n",
      "    exp(x, /)\n",
      "        Return e raised to the power of x.\n",
      "    \n",
      "    expm1(x, /)\n",
      "        Return exp(x)-1.\n",
      "        \n",
      "        This function avoids the loss of precision involved in the direct evaluation of exp(x)-1 for small x.\n",
      "    \n",
      "    fabs(x, /)\n",
      "        Return the absolute value of the float x.\n",
      "    \n",
      "    factorial(x, /)\n",
      "        Find x!.\n",
      "        \n",
      "        Raise a ValueError if x is negative or non-integral.\n",
      "    \n",
      "    floor(x, /)\n",
      "        Return the floor of x as an Integral.\n",
      "        \n",
      "        This is the largest integer <= x.\n",
      "    \n",
      "    fmod(x, y, /)\n",
      "        Return fmod(x, y), according to platform C.\n",
      "        \n",
      "        x % y may differ.\n",
      "    \n",
      "    frexp(x, /)\n",
      "        Return the mantissa and exponent of x, as pair (m, e).\n",
      "        \n",
      "        m is a float and e is an int, such that x = m * 2.**e.\n",
      "        If x is 0, m and e are both 0.  Else 0.5 <= abs(m) < 1.0.\n",
      "    \n",
      "    fsum(seq, /)\n",
      "        Return an accurate floating point sum of values in the iterable seq.\n",
      "        \n",
      "        Assumes IEEE-754 floating point arithmetic.\n",
      "    \n",
      "    gamma(x, /)\n",
      "        Gamma function at x.\n",
      "    \n",
      "    gcd(x, y, /)\n",
      "        greatest common divisor of x and y\n",
      "    \n",
      "    hypot(x, y, /)\n",
      "        Return the Euclidean distance, sqrt(x*x + y*y).\n",
      "    \n",
      "    isclose(a, b, *, rel_tol=1e-09, abs_tol=0.0)\n",
      "        Determine whether two floating point numbers are close in value.\n",
      "        \n",
      "          rel_tol\n",
      "            maximum difference for being considered \"close\", relative to the\n",
      "            magnitude of the input values\n",
      "          abs_tol\n",
      "            maximum difference for being considered \"close\", regardless of the\n",
      "            magnitude of the input values\n",
      "        \n",
      "        Return True if a is close in value to b, and False otherwise.\n",
      "        \n",
      "        For the values to be considered close, the difference between them\n",
      "        must be smaller than at least one of the tolerances.\n",
      "        \n",
      "        -inf, inf and NaN behave similarly to the IEEE 754 Standard.  That\n",
      "        is, NaN is not close to anything, even itself.  inf and -inf are\n",
      "        only close to themselves.\n",
      "    \n",
      "    isfinite(x, /)\n",
      "        Return True if x is neither an infinity nor a NaN, and False otherwise.\n",
      "    \n",
      "    isinf(x, /)\n",
      "        Return True if x is a positive or negative infinity, and False otherwise.\n",
      "    \n",
      "    isnan(x, /)\n",
      "        Return True if x is a NaN (not a number), and False otherwise.\n",
      "    \n",
      "    ldexp(x, i, /)\n",
      "        Return x * (2**i).\n",
      "        \n",
      "        This is essentially the inverse of frexp().\n",
      "    \n",
      "    lgamma(x, /)\n",
      "        Natural logarithm of absolute value of Gamma function at x.\n",
      "    \n",
      "    log(...)\n",
      "        log(x, [base=math.e])\n",
      "        Return the logarithm of x to the given base.\n",
      "        \n",
      "        If the base not specified, returns the natural logarithm (base e) of x.\n",
      "    \n",
      "    log10(x, /)\n",
      "        Return the base 10 logarithm of x.\n",
      "    \n",
      "    log1p(x, /)\n",
      "        Return the natural logarithm of 1+x (base e).\n",
      "        \n",
      "        The result is computed in a way which is accurate for x near zero.\n",
      "    \n",
      "    log2(x, /)\n",
      "        Return the base 2 logarithm of x.\n",
      "    \n",
      "    modf(x, /)\n",
      "        Return the fractional and integer parts of x.\n",
      "        \n",
      "        Both results carry the sign of x and are floats.\n",
      "    \n",
      "    pow(x, y, /)\n",
      "        Return x**y (x to the power of y).\n",
      "    \n",
      "    radians(x, /)\n",
      "        Convert angle x from degrees to radians.\n",
      "    \n",
      "    remainder(x, y, /)\n",
      "        Difference between x and the closest integer multiple of y.\n",
      "        \n",
      "        Return x - n*y where n*y is the closest integer multiple of y.\n",
      "        In the case where x is exactly halfway between two multiples of\n",
      "        y, the nearest even value of n is used. The result is always exact.\n",
      "    \n",
      "    sin(x, /)\n",
      "        Return the sine of x (measured in radians).\n",
      "    \n",
      "    sinh(x, /)\n",
      "        Return the hyperbolic sine of x.\n",
      "    \n",
      "    sqrt(x, /)\n",
      "        Return the square root of x.\n",
      "    \n",
      "    tan(x, /)\n",
      "        Return the tangent of x (measured in radians).\n",
      "    \n",
      "    tanh(x, /)\n",
      "        Return the hyperbolic tangent of x.\n",
      "    \n",
      "    trunc(x, /)\n",
      "        Truncates the Real x to the nearest Integral toward 0.\n",
      "        \n",
      "        Uses the __trunc__ magic method.\n",
      "\n",
      "DATA\n",
      "    e = 2.718281828459045\n",
      "    inf = inf\n",
      "    nan = nan\n",
      "    pi = 3.141592653589793\n",
      "    tau = 6.283185307179586\n",
      "\n",
      "FILE\n",
      "    (built-in)\n",
      "\n",
      "\n"
     ]
    }
   ],
   "source": [
    "help(math)"
   ]
  },
  {
   "cell_type": "code",
   "execution_count": 64,
   "metadata": {},
   "outputs": [
    {
     "ename": "NameError",
     "evalue": "name 'q' is not defined",
     "output_type": "error",
     "traceback": [
      "\u001b[1;31m---------------------------------------------------------------------------\u001b[0m",
      "\u001b[1;31mNameError\u001b[0m                                 Traceback (most recent call last)",
      "\u001b[1;32m<ipython-input-64-e222fcdf3350>\u001b[0m in \u001b[0;36m<module>\u001b[1;34m\u001b[0m\n\u001b[1;32m----> 1\u001b[1;33m \u001b[0mq\u001b[0m\u001b[1;33m\u001b[0m\u001b[1;33m\u001b[0m\u001b[0m\n\u001b[0m",
      "\u001b[1;31mNameError\u001b[0m: name 'q' is not defined"
     ]
    }
   ],
   "source": []
  },
  {
   "cell_type": "code",
   "execution_count": 65,
   "metadata": {},
   "outputs": [
    {
     "name": "stdout",
     "output_type": "stream",
     "text": [
      "\n",
      "Please wait a moment while I gather a list of all available modules...\n",
      "\n"
     ]
    },
    {
     "name": "stderr",
     "output_type": "stream",
     "text": [
      "C:\\Users\\Njh\\anaconda3\\lib\\site-packages\\IPython\\kernel\\__init__.py:13: ShimWarning: The `IPython.kernel` package has been deprecated since IPython 4.0.You should import from ipykernel or jupyter_client instead.\n",
      "  \"You should import from ipykernel or jupyter_client instead.\", ShimWarning)\n",
      "distributed.dashboard.proxy - INFO - To route to workers diagnostics web server please install jupyter-server-proxy: python -m pip install jupyter-server-proxy\n",
      "C:\\Users\\Njh\\anaconda3\\lib\\site-packages\\nltk\\twitter\\__init__.py:22: UserWarning: The twython library has not been installed. Some functionality from the twitter package will not be available.\n",
      "  \"The twython library has not been installed. \"\n",
      "C:\\Users\\Njh\\anaconda3\\lib\\site-packages\\skimage\\viewer\\utils\\__init__.py:1: UserWarning: Recommended matplotlib backend is `Agg` for full skimage.viewer functionality.\n",
      "  from .core import *\n",
      "C:\\Users\\Njh\\anaconda3\\lib\\site-packages\\sklearn\\externals\\joblib\\__init__.py:15: FutureWarning: sklearn.externals.joblib is deprecated in 0.21 and will be removed in 0.23. Please import this functionality directly from joblib, which can be installed with: pip install joblib. If this warning is raised when loading pickled models, you may need to re-serialize those models with scikit-learn 0.21+.\n",
      "  warnings.warn(msg, category=FutureWarning)\n",
      "C:\\Users\\Njh\\anaconda3\\lib\\site-packages\\qtawesome\\iconic_font.py:312: UserWarning: You need to have a running QApplication to use QtAwesome!\n",
      "  warnings.warn(\"You need to have a running \"\n",
      "C:\\Users\\Njh\\anaconda3\\lib\\pkgutil.py:107: VisibleDeprecationWarning: zmq.eventloop.minitornado is deprecated in pyzmq 14.0 and will be removed.\n",
      "    Install tornado itself to use zmq with the tornado IOLoop.\n",
      "    \n",
      "  yield from walk_packages(path, info.name+'.', onerror)\n"
     ]
    },
    {
     "name": "stdout",
     "output_type": "stream",
     "text": [
      "Crypto              brain_subprocess    matplotlib          sndhdr\n",
      "Cython              brain_threading     mccabe              snowballstemmer\n",
      "IPython             brain_typing        menuinst            socket\n",
      "OpenSSL             brain_uuid          mimetypes           socketserver\n",
      "PIL                 bs4                 mistune             socks\n",
      "PyQt5               builtins            mkl                 sockshandler\n",
      "__future__          bz2                 mkl_fft             sortedcollections\n",
      "_abc                cProfile            mkl_random          sortedcontainers\n",
      "_ast                calendar            mmap                soupsieve\n",
      "_asyncio            certifi             mmapfile            sphinx\n",
      "_bisect             cffi                mmsystem            sphinxcontrib\n",
      "_blake2             cgi                 mock                spyder\n",
      "_bootlocale         cgitb               modulefinder        spyder_kernels\n",
      "_bz2                chardet             more_itertools      sqlalchemy\n",
      "_cffi_backend       chunk               mpmath              sqlite3\n",
      "_codecs             click               msgpack             sre_compile\n",
      "_codecs_cn          cloudpickle         msilib              sre_constants\n",
      "_codecs_hk          clyent              msvcrt              sre_parse\n",
      "_codecs_iso2022     cmath               multipledispatch    ssl\n",
      "_codecs_jp          cmd                 multiprocessing     sspi\n",
      "_codecs_kr          code                nacl                sspicon\n",
      "_codecs_tw          codecs              navigator_updater   stat\n",
      "_collections        codeop              nbconvert           statistics\n",
      "_collections_abc    collections         nbformat            statsmodels\n",
      "_compat_pickle      colorama            netbios             storemagic\n",
      "_compression        colorsys            netrc               string\n",
      "_contextvars        commctrl            networkx            stringprep\n",
      "_csv                compileall          nltk                struct\n",
      "_ctypes             comtypes            nntplib             subprocess\n",
      "_ctypes_test        concurrent          nose                sunau\n",
      "_datetime           conda               notebook            symbol\n",
      "_decimal            conda_build         nt                  sympy\n",
      "_dummy_thread       conda_env           ntpath              sympyprinting\n",
      "_elementtree        conda_package_handling ntsecuritycon       symtable\n",
      "_functools          conda_verify        nturl2path          sys\n",
      "_hashlib            configparser        numba               sysconfig\n",
      "_heapq              contextlib          numbers             tables\n",
      "_imp                contextlib2         numexpr             tabnanny\n",
      "_io                 contextvars         numpy               tarfile\n",
      "_json               copy                numpydoc            tblib\n",
      "_locale             copyreg             odbc                telnetlib\n",
      "_lsprof             crypt               olefile             temp_converter\n",
      "_lzma               cryptography        opcode              tempfile\n",
      "_markupbase         csv                 openpyxl            terminado\n",
      "_md5                ctypes              operator            test\n",
      "_msi                curl                optparse            test_data\n",
      "_multibytecodec     curses              os                  test_pycosat\n",
      "_multiprocessing    cwp                 packaging           testpath\n",
      "_nsis               cycler              pandas              tests\n",
      "_opcode             cython              pandocfilters       textwrap\n",
      "_operator           cythonmagic         paramiko            this\n",
      "_osx_support        cytoolz             parser              threading\n",
      "_overlapped         dask                parso               time\n",
      "_pickle             dataclasses         partd               timeit\n",
      "_py_abc             datetime            past                timer\n",
      "_pydecimal          dateutil            path                tkinter\n",
      "_pyio               dbi                 pathlib             tlz\n",
      "_pylief             dbm                 pathlib2            token\n",
      "_pyrsistent_version dde                 pathtools           tokenize\n",
      "_pytest             decimal             patsy               toolz\n",
      "_queue              decorator           pdb                 tornado\n",
      "_random             defusedxml          pep8                tqdm\n",
      "_sha1               diff_match_patch    perfmon             trace\n",
      "_sha256             difflib             pexpect             traceback\n",
      "_sha3               dis                 pickle              tracemalloc\n",
      "_sha512             distributed         pickleshare         traitlets\n",
      "_signal             distutils           pickletools         tty\n",
      "_sitebuiltins       doctest             pip                 turtle\n",
      "_socket             docutils            pipes               turtledemo\n",
      "_sqlite3            dummy_threading     pkg_resources       types\n",
      "_sre                easy_install        pkginfo             typing\n",
      "_ssl                email               pkgutil             ujson\n",
      "_stat               encodings           platform            unicodecsv\n",
      "_string             ensurepip           plistlib            unicodedata\n",
      "_strptime           entrypoints         pluggy              unittest\n",
      "_struct             enum                ply                 urllib\n",
      "_symtable           errno               poplib              urllib3\n",
      "_system_path        et_xmlfile          posixpath           uu\n",
      "_testbuffer         fastcache           pprint              uuid\n",
      "_testcapi           faulthandler        profile             venv\n",
      "_testconsole        filecmp             prometheus_client   warnings\n",
      "_testimportmultiple fileinput           prompt_toolkit      watchdog\n",
      "_testmultiphase     filelock            pstats              wave\n",
      "_thread             flake8              psutil              wcwidth\n",
      "_threading_local    flask               pty                 weakref\n",
      "_tkinter            fnmatch             pvectorc            webbrowser\n",
      "_tracemalloc        formatter           py                  webencodings\n",
      "_warnings           fractions           py_compile          werkzeug\n",
      "_weakref            fsspec              pyclbr              wheel\n",
      "_weakrefset         ftplib              pycodestyle         widgetsnbextension\n",
      "_win32sysloader     functools           pycosat             win2kras\n",
      "_winapi             future              pycparser           win32api\n",
      "_winxptheme         gc                  pycurl              win32clipboard\n",
      "_yaml               genericpath         pydoc               win32com\n",
      "abc                 getopt              pydoc_data          win32con\n",
      "adodbapi            getpass             pydocstyle          win32console\n",
      "afxres              gettext             pyexpat             win32cred\n",
      "aifc                gevent              pyflakes            win32crypt\n",
      "alabaster           glob                pygments            win32cryptcon\n",
      "anaconda_navigator  glob2               pylab               win32ctypes\n",
      "anaconda_project    greenlet            pylint              win32event\n",
      "antigravity         gzip                pyls                win32evtlog\n",
      "argh                h5py                pyls_jsonrpc        win32evtlogutil\n",
      "argparse            hashlib             pyodbc              win32file\n",
      "array               heapdict            pyparsing           win32gui\n",
      "asn1crypto          heapq               pyreadline          win32gui_struct\n",
      "ast                 hmac                pyrsistent          win32help\n",
      "astroid             html                pytest              win32inet\n",
      "astropy             html5lib            pytest_arraydiff    win32inetcon\n",
      "asynchat            http                pytest_astropy_header win32job\n",
      "asyncio             hypothesis          pytest_doctestplus  win32lz\n",
      "asyncore            idlelib             pytest_openfiles    win32net\n",
      "atexit              idna                pytest_remotedata   win32netcon\n",
      "atomicwrites        imageio             pythoncom           win32pdh\n",
      "attr                imagesize           pytz                win32pdhquery\n",
      "audioop             imaplib             pywin               win32pdhutil\n",
      "autopep8            imghdr              pywin32_bootstrap   win32pipe\n",
      "autoreload          imp                 pywin32_testutil    win32print\n",
      "babel               importlib           pywintypes          win32process\n",
      "backcall            importlib_metadata  pywt                win32profile\n",
      "backports           inspect             pyximport           win32ras\n",
      "base64              intervaltree        qdarkstyle          win32rcparser\n",
      "bcrypt              io                  qtawesome           win32security\n",
      "bdb                 ipaddress           qtconsole           win32service\n",
      "binascii            ipykernel           qtpy                win32serviceutil\n",
      "binhex              ipykernel_launcher  queue               win32timezone\n",
      "binstar_client      ipython_genutils    quopri              win32trace\n",
      "bisect              ipywidgets          random              win32traceutil\n",
      "bitarray            isapi               rasutil             win32transaction\n",
      "bkcharts            isort               re                  win32ts\n",
      "bleach              isympy              readline            win32ui\n",
      "bokeh               itertools           regcheck            win32uiole\n",
      "boto                itsdangerous        regutil             win32verstamp\n",
      "bottleneck          jdcal               reprlib             win32wnet\n",
      "brain_argparse      jedi                requests            win_inet_pton\n",
      "brain_attrs         jinja2              rlcompleter         win_unicode_console\n",
      "brain_builtin_inference joblib              rmagic              wincertstore\n",
      "brain_collections   json                rope                winerror\n",
      "brain_crypt         json5               rtree               winioctlcon\n",
      "brain_curses        jsonschema          ruamel_yaml         winnt\n",
      "brain_dataclasses   jupyter             run                 winperf\n",
      "brain_dateutil      jupyter_client      runpy               winpty\n",
      "brain_fstrings      jupyter_console     sched               winreg\n",
      "brain_functools     jupyter_core        scipy               winsound\n",
      "brain_gi            jupyterlab          scripts             winxpgui\n",
      "brain_hashlib       jupyterlab_server   seaborn             winxptheme\n",
      "brain_http          keyring             secrets             wrapt\n",
      "brain_io            keyword             select              wsgiref\n",
      "brain_mechanize     kiwisolver          selectors           xdrlib\n",
      "brain_multiprocessing lazy_object_proxy   send2trash          xlrd\n",
      "brain_namedtuple_enum lib2to3             servicemanager      xlsxwriter\n",
      "brain_nose          libarchive          setuptools          xlwings\n",
      "brain_numpy_core_fromnumeric libfuturize         shelve              xlwt\n",
      "brain_numpy_core_function_base libpasteurize       shlex               xml\n",
      "brain_numpy_core_multiarray lief                shutil              xmlrpc\n",
      "brain_numpy_core_numeric linecache           signal              xmltodict\n",
      "brain_numpy_core_numerictypes llvmlite            simplegeneric       xxsubtype\n",
      "brain_numpy_core_umath locale              singledispatch      yaml\n",
      "brain_numpy_ndarray locket              singledispatch_helpers yapf\n",
      "brain_numpy_random_mtrand logging             sip                 yapftests\n",
      "brain_numpy_utils   lxml                sipconfig           zict\n",
      "brain_pkg_resources lzma                sipdistutils        zipapp\n",
      "brain_pytest        macpath             site                zipfile\n",
      "brain_qt            mailbox             six                 zipimport\n",
      "brain_random        mailcap             skimage             zipp\n",
      "brain_re            markupsafe          sklearn             zlib\n",
      "brain_six           marshal             smtpd               zmq\n",
      "brain_ssl           math                smtplib             \n",
      "\n",
      "Enter any module name to get more help.  Or, type \"modules spam\" to search\n",
      "for modules whose name or summary contain the string \"spam\".\n",
      "\n"
     ]
    }
   ],
   "source": [
    "help(\"modules\")"
   ]
  },
  {
   "cell_type": "code",
   "execution_count": null,
   "metadata": {},
   "outputs": [],
   "source": []
  }
 ],
 "metadata": {
  "kernelspec": {
   "display_name": "Python 3",
   "language": "python",
   "name": "python3"
  },
  "language_info": {
   "codemirror_mode": {
    "name": "ipython",
    "version": 3
   },
   "file_extension": ".py",
   "mimetype": "text/x-python",
   "name": "python",
   "nbconvert_exporter": "python",
   "pygments_lexer": "ipython3",
   "version": "3.7.6"
  }
 },
 "nbformat": 4,
 "nbformat_minor": 4
}
